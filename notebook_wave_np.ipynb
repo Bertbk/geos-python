{
 "cells": [
  {
   "cell_type": "code",
   "execution_count": 5,
   "metadata": {},
   "outputs": [],
   "source": [
    "import numpy as np\n",
    "import scipy.ndimage as nd\n",
    "import matplotlib.pyplot as plt\n",
    "from matplotlib import rcParams\n",
    "import ipywidgets as widgets\n",
    "rcParams['font.size'] = 20\n",
    "rcParams['font.family'] = 'sans-serif'\n",
    "import json"
   ]
  },
  {
   "cell_type": "code",
   "execution_count": 6,
   "metadata": {
    "scrolled": true
   },
   "outputs": [],
   "source": [
    "# get parameters\n",
    "with open(\"data.json\") as f:\n",
    "  data = json.load(f)\n",
    "\n",
    "dt = data[\"dt_hdf5\"]\n",
    "nx = data[\"nx_elem\"] + 1\n",
    "ny = data[\"ny_elem\"] + 1\n",
    "nz = data[\"nz_elem\"] + 1\n",
    "\n",
    "xmin = data[\"xmin\"]\n",
    "xmax = data[\"xmax\"]\n",
    "ymin = data[\"ymin\"]\n",
    "ymax = data[\"ymax\"]\n",
    "zmin = data[\"zmin\"]\n",
    "zmax = data[\"zmax\"]\n",
    "\n",
    "sigma = data[\"sigma\"]\n",
    "\n",
    "nx = data[\"nx_elem\"] + 1\n",
    "ny = data[\"ny_elem\"] + 1\n",
    "nz = data[\"nz_elem\"] + 1\n",
    "\n",
    "dt=data[\"dt_hdf5\"]\n",
    "\n",
    "xscale = np.linspace(xmin, xmax, num =nx, endpoint=True)\n",
    "yscale = np.linspace(ymin, ymax, num =ny, endpoint=True)\n",
    "zscale = np.linspace(zmin, zmax, num =nz, endpoint=True)"
   ]
  },
  {
   "cell_type": "code",
   "execution_count": 8,
   "metadata": {},
   "outputs": [
    {
     "name": "stdout",
     "output_type": "stream",
     "text": [
      "pyz.shape = (64, 62, 62)\n"
     ]
    }
   ],
   "source": [
    "# load pressure files\n",
    "pyz = np.load(\"pyz.npy\")\n",
    "pxz = np.load(\"pxz.npy\")\n",
    "pxy = np.load(\"pxy.npy\")\n",
    "print(\"pyz.shape = \" + str(pyz.shape))\n",
    "ndt = pyz.shape[0]"
   ]
  },
  {
   "cell_type": "code",
   "execution_count": 14,
   "metadata": {
    "scrolled": false
   },
   "outputs": [
    {
     "data": {
      "application/vnd.jupyter.widget-view+json": {
       "model_id": "78069378826c4bcdb7e667911d924764",
       "version_major": 2,
       "version_minor": 0
      },
      "text/plain": [
       "interactive(children=(IntSlider(value=31, description='it', max=63), Text(value='figure', description='output'…"
      ]
     },
     "metadata": {},
     "output_type": "display_data"
    },
    {
     "data": {
      "text/plain": [
       "<function __main__.plotWfld(pyz, pxz, pxy, it, output='figure', save=False)>"
      ]
     },
     "execution_count": 14,
     "metadata": {},
     "output_type": "execute_result"
    }
   ],
   "source": [
    "ix=int(nx/2)\n",
    "iy=int(ny/2)\n",
    "iz=int(nz/2)\n",
    "nt=ndt\n",
    "\n",
    "def plotWfld(pyz, pxz, pxy,it,output=\"figure\",save=False):\n",
    "\n",
    "    vmax=np.percentile(np.abs(pxy[it,::]), 99.5)\n",
    "    time=it*dt\n",
    "    plt.figure(figsize=(16,6))\n",
    "    plt.subplot(1,3,1)\n",
    "    plt.imshow(np.transpose(pyz[it,:,:]),vmin=-vmax,vmax=vmax,cmap='seismic', extent=[ymin, ymax, zmin, zmax])\n",
    "    plt.grid(visible=True)\n",
    "    #plt.hlines((izmin,izmax),iymin,iymax,LineStyle='--')\n",
    "    #plt.vlines((iymin,iymax),izmin,izmax,LineStyle='--')\n",
    "    plt.xlabel(\"Y\")\n",
    "    plt.ylabel(\"Z\")\n",
    "    plt.title(r\"X-slice @ %0.2f sec\" %time)\n",
    "\n",
    "    plt.subplot(1,3,2)\n",
    "    plt.imshow(np.transpose(pxz[it,:,:]),vmin=-vmax,vmax=vmax,cmap='seismic', extent=[xmin, xmax, zmin, zmax])\n",
    "    plt.grid(visible=True)\n",
    "    #plt.hlines((izmin,izmax),ixmin,ixmax,LineStyle='--')\n",
    "    #plt.vlines((ixmin,ixmax),izmin,izmax,LineStyle='--')\n",
    "    plt.xlabel(\"X\")\n",
    "    plt.ylabel(\"Z\")\n",
    "    plt.title(r\"Y-slice @ %0.2f sec\" %time)\n",
    "\n",
    "    plt.subplot(1,3,3)\n",
    "    plt.imshow(np.transpose(pxy[it,:,:]),vmin=-vmax,vmax=vmax,cmap='seismic', extent=[xmin, xmax, ymin, ymax])\n",
    "    plt.grid(visible=True)\n",
    "    #plt.hlines((iymin,iymax),ixmin,ixmax,LineStyle='--')\n",
    "    #plt.vlines((ixmin,ixmax),iymin,iymax,LineStyle='--')\n",
    "    plt.xlabel(\"X\")\n",
    "    plt.ylabel(\"Y\")\n",
    "    plt.title(r\"Z-slice @ %0.2f sec\" %time)\n",
    "\n",
    "    plt.tight_layout()\n",
    "    if save==True:\n",
    "        plt.savefig(\"./fig/\"+output+\"_%d\" %it)\n",
    "    \n",
    "widgets.interact(plotWfld, pyz=widgets.fixed(pyz), pxz=widgets.fixed(pxz), pxy=widgets.fixed(pxy), it=(0,nt-2,1))"
   ]
  },
  {
   "cell_type": "code",
   "execution_count": null,
   "metadata": {},
   "outputs": [],
   "source": [
    "it = nt-2\n",
    "time=it*dt\n",
    "vmax=np.percentile(np.abs(pxz[it,::]), 99.5)\n",
    "fig, ax = plt.subplots()\n",
    "ax.imshow(np.transpose(pxz[it,:,:]),vmin=-vmax,vmax=vmax,cmap='seismic', extent=[xmin, xmax, zmin, zmax])\n",
    "ax.grid()\n",
    "ax.tick_params('both', length=2, width=0.5, which='major',labelsize=10)\n",
    "ax.set_title(\"GEOS: Wavefield at t=\"+str(format(time, '.2f'))+\"ms with sigma=\"+str(sigma),fontsize=10)\n",
    "ax.set_xlabel(\"X Coordinate (m)\",fontsize=10)\n",
    "ax.set_ylabel(\"Z Coordinate (m)\",fontsize=10)\n",
    "\n"
   ]
  }
 ],
 "metadata": {
  "kernelspec": {
   "display_name": "Python 3",
   "language": "python",
   "name": "python3"
  },
  "language_info": {
   "codemirror_mode": {
    "name": "ipython",
    "version": 3
   },
   "file_extension": ".py",
   "mimetype": "text/x-python",
   "name": "python",
   "nbconvert_exporter": "python",
   "pygments_lexer": "ipython3",
   "version": "3.10.6"
  },
  "toc": {
   "base_numbering": 1,
   "nav_menu": {},
   "number_sections": true,
   "sideBar": true,
   "skip_h1_title": false,
   "title_cell": "Table of Contents",
   "title_sidebar": "Contents",
   "toc_cell": false,
   "toc_position": {},
   "toc_section_display": true,
   "toc_window_display": false
  },
  "widgets": {
   "state": {
    "1bf2edf8832644dbb39aa3d8d5a9b8d7": {
     "views": [
      {
       "cell_index": 7
      }
     ]
    },
    "9b5bfbd79cce43ca90438fd335a96666": {
     "views": [
      {
       "cell_index": 11
      }
     ]
    }
   },
   "version": "1.2.0"
  }
 },
 "nbformat": 4,
 "nbformat_minor": 4
}
